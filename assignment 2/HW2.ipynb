{
 "cells": [
  {
   "cell_type": "markdown",
   "id": "2157ee8a3c504bc0",
   "metadata": {},
   "source": [
    "سپهر سلمانی یگانه ۴۰۰۱۰۰۲۶۵\n",
    "\n",
    " سارا اکبری خرم ۴۰۰۱۰۹۳۰۵"
   ]
  },
  {
   "cell_type": "code",
   "execution_count": 297,
   "id": "initial_id",
   "metadata": {
    "ExecuteTime": {
     "end_time": "2024-10-22T22:52:09.224309Z",
     "start_time": "2024-10-22T22:52:09.213353Z"
    }
   },
   "outputs": [],
   "source": [
    "import numpy as np\n",
    "import scipy as sp\n",
    "import matplotlib.pyplot as plt\n",
    "import seaborn as sns"
   ]
  },
  {
   "cell_type": "markdown",
   "id": "6f1210b0-1f36-41bb-ae35-ae791fd87739",
   "metadata": {},
   "source": [
    "دیتاها را لود می‌کنیم. با ترسنپوز کردن، هر سطر قیمت یک مارکت می‌شود"
   ]
  },
  {
   "cell_type": "code",
   "execution_count": 298,
   "id": "4e79e410c4613f88",
   "metadata": {
    "ExecuteTime": {
     "end_time": "2024-10-22T22:52:09.421448Z",
     "start_time": "2024-10-22T22:52:09.226542Z"
    }
   },
   "outputs": [],
   "source": [
    "mat_data = sp.io.loadmat(\"All.mat\")\n",
    "all_price = np.array(mat_data['A']).transpose()\n",
    "market_num = len(all_price)\n",
    "data_num = len(all_price[0])\n",
    "rtrn_num = data_num - 1"
   ]
  },
  {
   "cell_type": "markdown",
   "id": "188964d5-7765-4d55-81ec-7f2c494f3587",
   "metadata": {},
   "source": [
    "از روی قیمت برای هر مارکت ریترن را حساب می‌کنیم"
   ]
  },
  {
   "cell_type": "code",
   "execution_count": 299,
   "id": "4951ba4113f58ca4",
   "metadata": {
    "ExecuteTime": {
     "end_time": "2024-10-22T22:52:09.428707Z",
     "start_time": "2024-10-22T22:52:09.421448Z"
    }
   },
   "outputs": [],
   "source": [
    "def price_to_rtrn(price):\n",
    "    rtrn = np.zeros(rtrn_num)\n",
    "    for t in range(rtrn_num):\n",
    "        rtrn[t] = price[t + 1] / price[t] - 1\n",
    "    return rtrn"
   ]
  },
  {
   "cell_type": "code",
   "execution_count": 300,
   "id": "542d113f4114b8f7",
   "metadata": {
    "ExecuteTime": {
     "end_time": "2024-10-22T22:52:10.337241Z",
     "start_time": "2024-10-22T22:52:09.430511Z"
    }
   },
   "outputs": [],
   "source": [
    "all_rtrn = np.zeros((market_num, rtrn_num))\n",
    "for market_index in range(market_num):\n",
    "    all_rtrn[market_index] = price_to_rtrn(all_price[market_index])"
   ]
  },
  {
   "cell_type": "markdown",
   "id": "9393ce36-b9a4-4660-9b92-32d29b939def",
   "metadata": {},
   "source": [
    "حال ریترن هر بازار را لوکال نرمالایز می‌کنیم. برای این کار ریترن هر بازار را در پنجره‌های ۱۳ روزه بررسی می‌کنیم. از آنجا که طول دیتا بر ۱۳ بخش‌پذیر نبود، پنجره‌ی آخر را تعداد روزهای باقی‌مانده گرفتیم"
   ]
  },
  {
   "cell_type": "code",
   "execution_count": 301,
   "id": "3ee520b65cbc37cb",
   "metadata": {
    "ExecuteTime": {
     "end_time": "2024-10-22T22:52:10.355705Z",
     "start_time": "2024-10-22T22:52:10.337241Z"
    }
   },
   "outputs": [],
   "source": [
    "def rtrn_to_rLN(rtrn):\n",
    "    windows, last_window = reshape_rtrn(rtrn)\n",
    "    windows_num, window_len = windows.shape\n",
    "    rLN = np.zeros(rtrn_num)\n",
    "    for i in range(windows_num):\n",
    "        rLN[i * window_len:(i + 1) * window_len] = local_normalize(windows[i])\n",
    "    rLN[-len(last_window):] = local_normalize(last_window)\n",
    "    return rLN"
   ]
  },
  {
   "cell_type": "code",
   "execution_count": 302,
   "id": "30468011a699c251",
   "metadata": {
    "ExecuteTime": {
     "end_time": "2024-10-22T22:52:10.434435Z",
     "start_time": "2024-10-22T22:52:10.359028Z"
    }
   },
   "outputs": [],
   "source": [
    "def local_normalize(window):\n",
    "    window_len = len(window)\n",
    "    mean = np.mean(window)\n",
    "    std = np.std(window)\n",
    "    LN = np.zeros(window_len)\n",
    "    for i in range(window_len):\n",
    "        LN[i] = (window[i] - mean) / std\n",
    "    return LN"
   ]
  },
  {
   "cell_type": "code",
   "execution_count": 303,
   "id": "89cd4e9f171e0cb8",
   "metadata": {
    "ExecuteTime": {
     "end_time": "2024-10-22T22:52:10.444525Z",
     "start_time": "2024-10-22T22:52:10.437584Z"
    }
   },
   "outputs": [],
   "source": [
    "def reshape_rtrn(rtrn):\n",
    "    window_len = 13\n",
    "    last_window_len = rtrn_num % window_len\n",
    "    last_window = rtrn[-last_window_len:]\n",
    "    windows_num = rtrn_num // 13\n",
    "    windows = rtrn[:-last_window_len].reshape(windows_num, window_len)\n",
    "    return windows, last_window"
   ]
  },
  {
   "cell_type": "code",
   "execution_count": 304,
   "id": "354b6ea01fa3422d",
   "metadata": {
    "ExecuteTime": {
     "end_time": "2024-10-22T22:52:13.038606Z",
     "start_time": "2024-10-22T22:52:10.444525Z"
    }
   },
   "outputs": [],
   "source": [
    "all_rLN = np.zeros(np.shape(all_rtrn))\n",
    "for market_index in range(market_num):\n",
    "    all_rLN[market_index] = rtrn_to_rLN(all_rtrn[market_index])"
   ]
  },
  {
   "cell_type": "markdown",
   "id": "a663f4fb-da62-455b-9d76-a1769b7a26b2",
   "metadata": {},
   "source": [
    "حال کل دیتای تمام مارکت‌ها را به پنجره‌های ۴۴ روزه تقسیم می‌کنیم. بازهم پنجره آخر را تعداد روزهای باقی‌مانده گرفتیم"
   ]
  },
  {
   "cell_type": "code",
   "execution_count": 305,
   "id": "acd793529526c10f",
   "metadata": {
    "ExecuteTime": {
     "end_time": "2024-10-22T22:52:13.042668Z",
     "start_time": "2024-10-22T22:52:13.038606Z"
    }
   },
   "outputs": [],
   "source": [
    "def reshape_rLN(rLN):\n",
    "    rLN_transpose = np.transpose(rLN)\n",
    "    window_len = 44\n",
    "    windows_num = rLN_transpose.shape[0] // window_len\n",
    "    windows = np.zeros((windows_num, rLN_transpose.shape[1], window_len))\n",
    "    for i in range(windows_num):\n",
    "        windows[i] = rLN_transpose[i * window_len:(i + 1) * window_len].transpose()\n",
    "    last_window_len = rLN_transpose.shape[0] % window_len\n",
    "    last_window = np.array(rLN_transpose[-last_window_len:].transpose())\n",
    "    return windows, last_window"
   ]
  },
  {
   "cell_type": "code",
   "execution_count": 306,
   "id": "86c0c43667371a52",
   "metadata": {
    "ExecuteTime": {
     "end_time": "2024-10-22T22:52:13.131776Z",
     "start_time": "2024-10-22T22:52:13.044671Z"
    }
   },
   "outputs": [],
   "source": [
    "rLN_windows, rLN_last_window = reshape_rLN(all_rLN)"
   ]
  },
  {
   "cell_type": "markdown",
   "id": "a720cf06-f55c-48d2-9341-77a6ff3af3af",
   "metadata": {},
   "source": "ماتریس‌های کراس کورلیشن را حساب می‌کنیم"
  },
  {
   "cell_type": "code",
   "execution_count": 307,
   "id": "c70d15d131ffd90d",
   "metadata": {
    "ExecuteTime": {
     "end_time": "2024-10-22T22:52:13.250818Z",
     "start_time": "2024-10-22T22:52:13.134172Z"
    }
   },
   "outputs": [],
   "source": [
    "correlation_matrices = np.zeros((len(rLN_windows) + 1, rLN_last_window.shape[0], rLN_last_window.shape[0]))\n",
    "for window_index in range(len(correlation_matrices) - 1):\n",
    "    correlation_matrices[window_index] = np.corrcoef(rLN_windows[window_index])\n",
    "correlation_matrices[-1] = np.corrcoef(rLN_last_window)"
   ]
  },
  {
   "cell_type": "markdown",
   "id": "e5ba410a-bf55-4be6-91cf-358fde9c1d30",
   "metadata": {},
   "source": [
    "هیتمپ این ماتریس‌ها را رسم و ذخیره می‌کنیم"
   ]
  },
  {
   "cell_type": "code",
   "execution_count": 308,
   "id": "b5eb4baacc81f755",
   "metadata": {
    "ExecuteTime": {
     "end_time": "2024-10-22T22:53:14.469328Z",
     "start_time": "2024-10-22T22:52:13.251039Z"
    }
   },
   "outputs": [],
   "source": [
    "for matrix_index in range(len(correlation_matrices)):\n",
    "    sns.heatmap(correlation_matrices[matrix_index]).get_figure().savefig(f\"heatmaps/heatmap-of-window{matrix_index}.png\")\n",
    "    plt.close()"
   ]
  }
 ],
 "metadata": {
  "kernelspec": {
   "display_name": "Python 3 (ipykernel)",
   "language": "python",
   "name": "python3"
  },
  "language_info": {
   "codemirror_mode": {
    "name": "ipython",
    "version": 3
   },
   "file_extension": ".py",
   "mimetype": "text/x-python",
   "name": "python",
   "nbconvert_exporter": "python",
   "pygments_lexer": "ipython3",
   "version": "3.11.5"
  }
 },
 "nbformat": 4,
 "nbformat_minor": 5
}
