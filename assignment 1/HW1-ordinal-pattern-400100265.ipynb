{
 "cells": [
  {
   "cell_type": "code",
   "execution_count": 1,
   "id": "823f201e-1805-4cca-9d51-f7a9e7acc67b",
   "metadata": {},
   "outputs": [],
   "source": [
    "import numpy as np\n",
    "import matplotlib.pyplot as plt\n",
    "import math\n",
    "import itertools\n",
    "import seaborn as sn "
   ]
  },
  {
   "cell_type": "markdown",
   "id": "8525d74a-3890-4d94-88ba-83ee955f8ea2",
   "metadata": {},
   "source": [
    "دیتا را لود می‌کنیم"
   ]
  },
  {
   "cell_type": "code",
   "execution_count": 2,
   "id": "6369702d-66da-4f7f-ba23-63f4eea0e810",
   "metadata": {},
   "outputs": [],
   "source": [
    "data = np.loadtxt(\"test2.txt\")\n",
    "data_len = len(data)"
   ]
  },
  {
   "cell_type": "markdown",
   "id": "33cec63c-bd90-458e-ac71-72d4ca0a82ab",
   "metadata": {},
   "source": [
    "مقادیر اولیه را مشخص می‌کنیم"
   ]
  },
  {
   "cell_type": "code",
   "execution_count": 3,
   "id": "b41c5958-7acc-458b-b6e2-f2d3986d0640",
   "metadata": {},
   "outputs": [],
   "source": [
    "dimension = 3\n",
    "o_p_len = math.factorial(dimension)\n",
    "ordinal_patterns = list(itertools.permutations([i for i in range(dimension)]))\n",
    "o_p_arr = np.zeros(data_len - dimension + 1)\n",
    "o_p_count = np.zeros(o_p_len)\n",
    "conditional_count_matrix = np.zeros((o_p_len, o_p_len)) # [i][j]: i happened right after j"
   ]
  },
  {
   "cell_type": "code",
   "execution_count": 4,
   "id": "c1498509-36b9-461c-a0da-90afc91e9850",
   "metadata": {},
   "outputs": [
    {
     "name": "stdout",
     "output_type": "stream",
     "text": [
      "ordinal patterns and their numbers\n",
      "# 0: (0, 1, 2)\n",
      "# 1: (0, 2, 1)\n",
      "# 2: (1, 0, 2)\n",
      "# 3: (1, 2, 0)\n",
      "# 4: (2, 0, 1)\n",
      "# 5: (2, 1, 0)\n"
     ]
    }
   ],
   "source": [
    "print(\"ordinal patterns and their numbers\")\n",
    "for i in range(o_p_len):\n",
    "    print(f\"# {i}: {ordinal_patterns[i]}\")"
   ]
  },
  {
   "cell_type": "markdown",
   "id": "899a76cf-4b0c-45b4-aa5f-a05c9b817490",
   "metadata": {},
   "source": [
    "این تابع شماره اردینال پترن را تشخیص می‌دهد و تعداد هر پترن و الگوی تکرار پترن‌ها را نیز می‌شمارد"
   ]
  },
  {
   "cell_type": "code",
   "execution_count": 5,
   "id": "ac498b61-2bea-4121-94a2-7caf188d6f06",
   "metadata": {},
   "outputs": [],
   "source": [
    "def count_ordinal_pattern(ord_pat: tuple, op_index):\n",
    "    i = 0\n",
    "    while i < o_p_len:\n",
    "        if ord_pat == ordinal_patterns[i]:\n",
    "            o_p_count[i] += 1\n",
    "            o_p_arr[op_index] = i\n",
    "            conditional_count_matrix[i][int(o_p_arr[op_index-1])] += 1\n",
    "            break\n",
    "        i += 1"
   ]
  },
  {
   "cell_type": "markdown",
   "id": "80012850-9d01-4abc-9258-eac9f78ad296",
   "metadata": {},
   "source": [
    "آرایه‌ای از دیتا را به اردینال پترن تبدیل می‌کند"
   ]
  },
  {
   "cell_type": "code",
   "execution_count": 6,
   "id": "b3482113-5624-4119-ae0c-959e374501d3",
   "metadata": {},
   "outputs": [],
   "source": [
    "def turn_data_to_ordinal_pattern(window: list):\n",
    "    window_sorted = np.sort(window)\n",
    "    return tuple(np.where(window_sorted == datum)[0][0] for datum in window)"
   ]
  },
  {
   "cell_type": "code",
   "execution_count": 7,
   "id": "e2dea41a-8441-401d-ab10-0a2b61982c83",
   "metadata": {},
   "outputs": [],
   "source": [
    "def detect_ordinal_pattern(window, op_index):\n",
    "    count_ordinal_pattern(turn_data_to_ordinal_pattern(window), op_index)"
   ]
  },
  {
   "cell_type": "markdown",
   "id": "4075b14b-68b1-4431-9409-c6e32c3445cc",
   "metadata": {},
   "source": [
    "کل داده‌ها را پیمایش می‌کنیم"
   ]
  },
  {
   "cell_type": "code",
   "execution_count": 8,
   "id": "79d1d33c-9046-4cbe-9fa3-e70cc650e833",
   "metadata": {},
   "outputs": [],
   "source": [
    "for i in range(data_len - dimension + 1):\n",
    "    detect_ordinal_pattern(data[i:i+dimension], i) "
   ]
  },
  {
   "cell_type": "markdown",
   "id": "5f8c027b-f535-494e-810d-1c35b1f00ba3",
   "metadata": {},
   "source": [
    "تعداد رخ دادن هرکدام از اردینال پترن‌ها. به طرز جالبی پترن ۵ هیچ گاه رخ نمی‌دهد. یعنی نزول متوالی نداریم"
   ]
  },
  {
   "cell_type": "code",
   "execution_count": 9,
   "id": "d3447476-ed53-4162-a492-8dcfe2b9bc77",
   "metadata": {},
   "outputs": [
    {
     "name": "stdout",
     "output_type": "stream",
     "text": [
      "OP #0 : 181746.0\n",
      "OP #1 : 98246.0\n",
      "OP #2 : 165621.0\n",
      "OP #3 : 310880.0\n",
      "OP #4 : 243505.0\n",
      "OP #5 : 0.0\n"
     ]
    }
   ],
   "source": [
    "for i in range(o_p_len):\n",
    "    print(f\"OP #{i} : {o_p_count[i]}\")"
   ]
  },
  {
   "cell_type": "markdown",
   "id": "9e6a9d83-8bd2-4c02-b999-7e507c52cfdb",
   "metadata": {},
   "source": [
    "ماتریس احتمال شرطی و هیت مپ آن را به دست می‌آوریم"
   ]
  },
  {
   "cell_type": "code",
   "execution_count": 10,
   "id": "3d5ff2dc-18b5-44e3-82c1-a86bfd191e1e",
   "metadata": {},
   "outputs": [],
   "source": [
    "conditional_probability_matrix = np.zeros((o_p_len, o_p_len))\n",
    "for i in range(o_p_len):\n",
    "    for j in range(o_p_len):\n",
    "        if o_p_count[j] != 0:\n",
    "            conditional_probability_matrix[i][j] = conditional_count_matrix[i][j] / o_p_count[j]"
   ]
  },
  {
   "cell_type": "code",
   "execution_count": 11,
   "id": "d2ef0250-8008-4d44-9452-3a6245eada5a",
   "metadata": {},
   "outputs": [
    {
     "name": "stdout",
     "output_type": "stream",
     "text": [
      "[0.         0.         0.         0.         0.74637482 0.        ]\n",
      "[0.2007582  0.         0.         0.         0.25362518 0.        ]\n",
      "[0.         1.         0.         0.21672349 0.         0.        ]\n",
      "[0.7992473  0.         0.99999396 0.         0.         0.        ]\n",
      "[0.         0.         0.         0.78327651 0.         0.        ]\n",
      "[0. 0. 0. 0. 0. 0.]\n"
     ]
    }
   ],
   "source": [
    "for row in conditional_probability_matrix:\n",
    "    print(row)"
   ]
  },
  {
   "cell_type": "code",
   "execution_count": 12,
   "id": "a112c781-e3da-45eb-9d95-14feaa2d2cdf",
   "metadata": {},
   "outputs": [
    {
     "data": {
      "image/png": "[encoded data removed]",
      "text/plain": [
       "<Figure size 640x480 with 2 Axes>"
      ]
     },
     "metadata": {},
     "output_type": "display_data"
    }
   ],
   "source": [
    "heatmap = sn.heatmap(data=conditional_probability_matrix, annot=True) \n",
    "plt.show()"
   ]
  },
  {
   "cell_type": "markdown",
   "id": "62ea18b9-7ce3-49a7-abb6-d37739ae03e4",
   "metadata": {},
   "source": [
    "اکثر خانه‌ها صفر هستند. اما خانه‌های جالب خانه‌های ۲۱ و ۳۲ هستند.خانه ۲۱ یعنی اگر پترن ۱ رخ دهد، آنگاه حتما پترن ۲ رخ می‌دهد. خانه ۳۲ هم یعنی اگر پترن ۲ رخ دهد، حتما بعدش پترن ۳ رخ می‌دهد. با ترکیب این دو می‌بینیم که اگر پترن ۱ رخ دهد آنگاه قطعا ۲ و سپس قطعا ۳ رخ می‌دهد\n",
    "\n",
    "اما چیزهای جالب‌تری نیز می‌توان فهمید. می‌بینیم که سیستم دارد داخل چرخه ۰ به ۳ به ۴ به ۰ می‌چرخد و گاهی در این بین به ۱ و ۲ می‌رود که با توجه به توضیحات قبلی به طور قطعی به ۳ برمی‌گردد و دوباره داخل چرخه می‌چرخد. انگار حالت تعادل سیستم همان چرخیدن در چرخه ۰۳۴۰ است"
   ]
  },
  {
   "cell_type": "code",
   "execution_count": null,
   "id": "27964da8-191b-438f-bcf3-b13c11f3ae27",
   "metadata": {},
   "outputs": [],
   "source": []
  }
 ],
 "metadata": {
  "kernelspec": {
   "display_name": "Python 3 (ipykernel)",
   "language": "python",
   "name": "python3"
  },
  "language_info": {
   "codemirror_mode": {
    "name": "ipython",
    "version": 3
   },
   "file_extension": ".py",
   "mimetype": "text/x-python",
   "name": "python",
   "nbconvert_exporter": "python",
   "pygments_lexer": "ipython3",
   "version": "3.11.5"
  }
 },
 "nbformat": 4,
 "nbformat_minor": 5
}
